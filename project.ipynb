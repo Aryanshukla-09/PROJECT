{
  "nbformat": 4,
  "nbformat_minor": 0,
  "metadata": {
    "colab": {
      "provenance": [],
      "authorship_tag": "ABX9TyNA1LNjhbqyFw201xNWM165",
      "include_colab_link": true
    },
    "kernelspec": {
      "name": "python3",
      "display_name": "Python 3"
    },
    "language_info": {
      "name": "python"
    }
  },
  "cells": [
    {
      "cell_type": "markdown",
      "metadata": {
        "id": "view-in-github",
        "colab_type": "text"
      },
      "source": [
        "<a href=\"https://colab.research.google.com/github/Aryanshukla-09/PROJECT/blob/main/project.ipynb\" target=\"_parent\"><img src=\"https://colab.research.google.com/assets/colab-badge.svg\" alt=\"Open In Colab\"/></a>"
      ]
    },
    {
      "cell_type": "markdown",
      "source": [
        "## **PROJECT REPORT**"
      ],
      "metadata": {
        "id": "CNV7CRJrOiBC"
      }
    },
    {
      "cell_type": "markdown",
      "source": [
        "### INTRODUCTION:-"
      ],
      "metadata": {
        "id": "ojfj25RSgGVk"
      }
    },
    {
      "cell_type": "markdown",
      "source": [
        "Deep learning is a subfield of machine learning that emphasizes on\n",
        "algorithms inspired by the structure and function of the brain's neural\n",
        "networks. It includes training artificial neural networks (ANNs) with large\n",
        "amounts of data to learn and make decisions independently. Deep learning\n",
        "has evolved various fields such as computer vision, natural language\n",
        "processing, and speech recognition, achieving state-of-the-art results in tasks\n",
        "like image classification, language translation, and autonomous driving. Its\n",
        "applications span across industries, including healthcare, finance, and\n",
        "entertainment, making it a pivotal technology in the era of artificial\n",
        "intelligence.\n",
        "Deep learning is a branch of artificial intelligence and machine learning that\n",
        "structures high-level abstractions in data through deep neural networks.\n",
        "Influenced by the human brain's structure and function, deep learning\n",
        "algorithms are premeditated to learn from large amounts of labeled or\n",
        "unlabeled data. These algorithms have demonstrated exceptional success in\n",
        "various tasks such as image and speech recognition, natural language\n",
        "processing, and reinforcement learning. Deep learning has significantly\n",
        "improved fields like computer vision, healthcare diagnostics, autonomous\n",
        "vehicles, and more, making it a foundation of modern AI applications."
      ],
      "metadata": {
        "id": "gJfZN8skgGN2"
      }
    },
    {
      "cell_type": "markdown",
      "source": [
        "### SOME BASIC CONCEPT:-"
      ],
      "metadata": {
        "id": "ES9QbbIcgF-A"
      }
    },
    {
      "cell_type": "markdown",
      "source": [
        "One of the key concepts in deep learning is the use of neural networks with multiple layers. This grants the model to learn hierarchical representations of data. Key aspects Include:\n",
        "\n",
        "1) Neural Networks: ● Structure: Neural networks are composed of layers of nodes (neurons) organized in a hierarchical manner. Each neuron is connected to neurons in the adjoining layers. ● Functionality: These networks are inspired by the human brain's neural structure, where neurons communicate through synapses. Similarly, in artificial neural networks, nodes in one layer transfer information (weighted inputs) to nodes in the upcoming layer, eventually givinging an output.\n",
        "\n",
        "2) Layered Architecture: ● Input Layer: Receives input data and passes it on to the next layer. ● Hidden Layers: Intermediate layers between the input and output layers where the actual computation occurs. Each layer typically consists of multiple neurons that apply transformations to the input data. ● Output Layer: Produces the final output of the network based on the computations performed in the hidden layers.\n",
        "\n",
        "3) Feature Learning: ● Hierarchical Feature Extraction: Deep networks learn hierarchical representations of data. Lower layers detect simple features (e.g., edges, textures) from raw input data. ● Abstraction: Higher layers combine these simple features into more abstract representations (e.g., shapes, objects, semantic concepts). This hierarchical process allows the network to learn increasingly complex and meaningful features.\n",
        "\n",
        "4) Representation Learning: ● Feature Extraction Automation: Traditional machine learning often requires manual feature engineering, where domain knowledge is used to extract relevant features from data. In contrast, deep learning models automatically learn relevant features or representations directly from the raw data. ● Adaptability: This ability to automatically learn features makes deep learning models highly adaptable to different types of data and tasks, potentially reducing the dependency on domain-specific feature engineering.\n",
        "\n",
        "5) Training with Backpropagation: ● Error Optimization: Backpropagation is a key algorithm used to train neural networks. It works by calculating the gradient of the loss function with respect to each weight in the network. ● Gradient Descent: Based on these gradients, the weights are adjusted in the direction that minimizes the error (loss) of the network's predictions. ● Iterations: Training involves iteratively passing data through the network, calculating errors, and adjusting weights to improve the network's ability to make accurate predictions over time.\n",
        "\n",
        "6) Applications: ● Image and Speech Recognition: Deep learning has revolutionized image and speech recognition tasks, achieving human-level performance in many cases. ● Natural Language Processing (NLP): Deep learning models like transformers have significantly advanced the field of NLP, enabling tasks such as language translation, sentiment analysis, and text generation. ● Reinforcement Learning: Deep reinforcement learning combines deep learning with reinforcement learning principles to enable machines to learn complex behaviors through interaction with environments.\n"
      ],
      "metadata": {
        "id": "AH6ZkOYMgiJB"
      }
    },
    {
      "cell_type": "markdown",
      "source": [
        "### Convolution Neural Network(CNNs):-"
      ],
      "metadata": {
        "id": "icgc2PE5ghsf"
      }
    },
    {
      "cell_type": "markdown",
      "source": [
        "● Introduction to Convolution Neural Network:\n",
        "A Convolutional Neural Network (CNN) is a type of Deep Learning neural\n",
        "network architecture frequently used in Computer Vision. Computer vision is\n",
        "a field of Artificial Intelligence that enables a computer to understand and\n",
        "interpret the image or visual data.\n",
        "When it comes to Machine Learning, Artificial Neural Networks perform\n",
        "really well. Neural Networks are used in different datasets like images, audio,\n",
        "and text. Various types of Neural Networks are used for various purposes, for\n",
        "example for predicting the sequence of words we use Recurrent Neural\n",
        "Networks more precisely an LSTM, similarly for image classification we use\n",
        "Convolution Neural networks. In this blog, we are going to build a basic\n",
        "building block for CNN.\n",
        "\n",
        "● In a regular Neural Network there are three types of layers:\n",
        "1. Input Layers: It’s the layer in which we give input to our model. The\n",
        "number of neurons in this layer is equal to the total number of features\n",
        "in our data (number of pixels in the case of an image).\n",
        "2. Hidden Layer: The input from the Input layer is then fed into the\n",
        "hidden layer. There can be many hidden layers depending on our model\n",
        "and data size. Each hidden layer can have different numbers of neurons\n",
        "which are generally greater than the number of features. The output\n",
        "from each layer is computed by matrix multiplication of the output of\n",
        "the previous layer with learnable weights of that layer and then by the\n",
        "addition of learnable biases followed by activation function which\n",
        "makes the network nonlinear.\n",
        "3. Output Layer: The output from the hidden layer is then fed into a\n",
        "logistic function like sigmoid or softmax which converts the output of\n",
        "each class into the probability score of each class.\n",
        "Now let’s talk about a bit of mathematics that is involved in the\n",
        "whole convolution process.\n",
        "Convolution layers consist of a set of learnable filters (or kernels) having\n",
        "small widths and heights and the same depth as that of input volume (3 if the\n",
        "input layer is image input).\n",
        "For example, if we have to run convolution on an image with dimensions\n",
        "34x34x3. The possible size of filters can be axax3, where ‘a’ can be anything\n",
        "like 3, 5, or 7 but smaller as compared to the image dimension.\n",
        "During the forward pass, we slide each filter across the whole input volume\n",
        "step by step where each step is called stride (which can have a value of 2, 3,\n",
        "or even 4 for high-dimensional images) and compute the dot product between\n",
        "the kernel weights and patch from input volume.\n",
        "As we slide our filters we’ll get a 2-D output for each filter and we’ll stack\n",
        "them together as a result, we’ll get output volume having a depth equal to the\n",
        "number of filters. The network will learn all the filters.\n",
        "\n",
        "**Code for CNNs:**\n",
        "\n",
        "from keras.models import Sequential\n",
        "from keras.layers import Conv2D, MaxPooling2D, Flatten, Dense\n",
        "\n",
        "**Define the CNN model:**\n",
        "\n",
        "model = Sequential()\n",
        "model.add(Conv2D(32, (3, 3), activation=’relu’, input_shape=(224, 224, 3)))\n",
        "model.add(MaxPooling2D((2, 2)))\n",
        "model.add(Conv2D(64 , (3, 3), activation=’relu’))\n",
        "model.add(MaxPooling2D((2,2)))\n",
        "model.add(Conv2d(128, (3, 3), activation=’relu’))\n",
        "model.add(MaxPooling2D((2, 2)))\n",
        "model.add(Flatten())\n",
        "model.add(Dense(128, activation=’relu’))\n",
        "model.add(Dense(10, activation=’softmax’))\n",
        "\n",
        "**Compile the model:**\n",
        "\n",
        "model.compile(optimizer=’adam’, loss=’categorical_crossentropy’,\n",
        "metrics=[‘accuracy’])"
      ],
      "metadata": {
        "id": "2YIOM00NhU6-"
      }
    },
    {
      "cell_type": "code",
      "execution_count": 1,
      "metadata": {
        "colab": {
          "base_uri": "https://localhost:8080/"
        },
        "id": "UyQXc6iyNrMq",
        "outputId": "d588c539-c2c0-4345-b062-dfe314082be0"
      },
      "outputs": [
        {
          "output_type": "stream",
          "name": "stdout",
          "text": [
            "Downloading data from https://storage.googleapis.com/tensorflow/tf-keras-datasets/mnist.npz\n",
            "11490434/11490434 [==============================] - 1s 0us/step\n",
            "Epoch 1/5\n",
            "1875/1875 [==============================] - 43s 22ms/step - loss: 0.1451 - accuracy: 0.9566 - val_loss: 0.0814 - val_accuracy: 0.9731\n",
            "Epoch 2/5\n",
            "1875/1875 [==============================] - 38s 20ms/step - loss: 0.0509 - accuracy: 0.9844 - val_loss: 0.0494 - val_accuracy: 0.9837\n",
            "Epoch 3/5\n",
            "1875/1875 [==============================] - 38s 20ms/step - loss: 0.0344 - accuracy: 0.9893 - val_loss: 0.0495 - val_accuracy: 0.9851\n",
            "Epoch 4/5\n",
            "1875/1875 [==============================] - 36s 19ms/step - loss: 0.0213 - accuracy: 0.9931 - val_loss: 0.0501 - val_accuracy: 0.9849\n",
            "Epoch 5/5\n",
            "1875/1875 [==============================] - 37s 20ms/step - loss: 0.0157 - accuracy: 0.9948 - val_loss: 0.0500 - val_accuracy: 0.9848\n",
            "313/313 [==============================] - 2s 5ms/step - loss: 0.0500 - accuracy: 0.9848\n",
            "Test loss: 0.0500\n",
            "Test accuracy: 0.9848\n"
          ]
        },
        {
          "output_type": "stream",
          "name": "stderr",
          "text": [
            "/usr/local/lib/python3.10/dist-packages/keras/src/engine/training.py:3103: UserWarning: You are saving your model as an HDF5 file via `model.save()`. This file format is considered legacy. We recommend using instead the native Keras format, e.g. `model.save('my_model.keras')`.\n",
            "  saving_api.save_model(\n"
          ]
        }
      ],
      "source": [
        "import tensorflow as tf\n",
        "from tensorflow.keras.datasets import mnist\n",
        "from tensorflow.keras.models import Sequential\n",
        "from tensorflow.keras.layers import Conv2D, MaxPooling2D, Flatten, Dense\n",
        "\n",
        "# Load and preprocess dataset\n",
        "(x_train, y_train), (x_test, y_test) = mnist.load_data()\n",
        "x_train, x_test = x_train / 255.0, x_test / 255.0\n",
        "\n",
        "# Reshape data for CNN (add channel dimension)\n",
        "x_train = x_train.reshape(x_train.shape[0], 28, 28, 1)\n",
        "x_test = x_test.reshape(x_test.shape[0], 28, 28, 1)\n",
        "\n",
        "# Define the CNN model\n",
        "model = Sequential([\n",
        "    Conv2D(32, kernel_size=(3, 3), activation='relu', input_shape=(28, 28, 1)),\n",
        "    MaxPooling2D(pool_size=(2, 2)),\n",
        "    Flatten(),\n",
        "    Dense(128, activation='relu'),\n",
        "    Dense(10, activation='softmax')\n",
        "])\n",
        "\n",
        "# Compile the model\n",
        "model.compile(optimizer='adam',\n",
        "              loss='sparse_categorical_crossentropy',\n",
        "              metrics=['accuracy'])\n",
        "\n",
        "# Train the model\n",
        "model.fit(x_train, y_train, epochs=5, validation_data=(x_test, y_test))\n",
        "\n",
        "# Evaluate the model\n",
        "loss, accuracy = model.evaluate(x_test, y_test)\n",
        "print(f'Test loss: {loss:.4f}')\n",
        "print(f'Test accuracy: {accuracy:.4f}')\n",
        "\n",
        "# Save the model\n",
        "model.save('mnist_cnn_model.h5')"
      ]
    },
    {
      "cell_type": "markdown",
      "source": [
        "### Recurrent Neural Networks(RNNs):-"
      ],
      "metadata": {
        "id": "F9QKNihNi41k"
      }
    },
    {
      "cell_type": "markdown",
      "source": [
        "● What is Recurrent Neural Network (RNN)?\n",
        "Recurrent Neural Network(RNN) is a type of Neural Network where the\n",
        "output from the previous step is fed as input to the current step. In traditional\n",
        "neural networks, all the inputs and outputs are independent of each other.\n",
        "Still, in cases when it is required to predict the next word of a sentence, the\n",
        "previous words are required and hence there is a need to remember the\n",
        "previous words. Thus RNN came into existence, which solved this issue with\n",
        "the help of a Hidden Layer. The main and most important feature of RNN is\n",
        "its Hidden state, which remembers some information about a sequence. The\n",
        "state is also referred to as Memory State since it remembers the previous\n",
        "input to the network. It uses the same parameters for each input as it performs\n",
        "the same task on all the inputs or hidden layers to produce the output. This\n",
        "reduces the complexity of parameters, unlike other neural networks.\n",
        "\n",
        "● Types of Recurrent Neural Network:\n",
        "1. One to One: This type of RNN behaves the same as any simple Neural\n",
        "network it is also known as Vanilla Neural Network. In this Neural\n",
        "network, there is only one input and one output.\n",
        "2. One To Many: In this type of RNN, there is one input and many\n",
        "outputs associated with it. One of the most used examples of this\n",
        "network is Image captioning where given an image we predict a\n",
        "sentence having Multiple words.\n",
        "3. Many to One: In this type of network, Many inputs are fed to the\n",
        "network at several states of the network generating only one output.\n",
        "This type of network is used in the problems like sentimental analysis.\n",
        "Where we give multiple words as input and predict only the sentiment\n",
        "of the sentence as output.\n",
        "4. Many to Many: In this type of neural network, there are multiple\n",
        "inputs and multiple outputs corresponding to a problem. One Example\n",
        "of this Problem will be language translation. In language translation,\n",
        "we provide multiple words from one language as input and predict\n",
        "multiple words from the second language as output.\n",
        "\n",
        "**Code for RNNs:**\n",
        "\n",
        "From keras.models import Sequential\n",
        "From keras.layers import Embedding, LSTM, Dense\n",
        "\n",
        "**Define the RNN model:**\n",
        "\n",
        "model = Sequential()\n",
        "model.add(Embedding(input_dim=10000,output_dim=128,\n",
        "input_length=max_length))\n",
        "model.add(LSTM(128, dropout=0.2, recurrent_dropout=0.2))\n",
        "model.add(Dense(64, activation=‘relu’))\n",
        "model.add(Dense(10, activation=‘softmax’))\n",
        "\n",
        "**Compile the model:**\n",
        "\n",
        "model.compile(loss=‘categorical_crossentropy’, optimizer=’adam’,\n",
        "metrics=[‘accuracy’]"
      ],
      "metadata": {
        "id": "dlWWgIiXi9qt"
      }
    },
    {
      "cell_type": "code",
      "source": [
        "import tensorflow as tf\n",
        "from tensorflow.keras import layers, models\n",
        "from tensorflow.keras.datasets import mnist\n",
        "import numpy as np\n",
        "import matplotlib.pyplot as plt\n",
        "\n",
        "# Load and preprocess the data\n",
        "(x_train, y_train), (x_test, y_test) = mnist.load_data()\n",
        "x_train, x_test = x_train / 255.0, x_test / 255.0\n",
        "\n",
        "# Reshape data to fit RNN model (28 time steps, 28 features)\n",
        "x_train = x_train.reshape((x_train.shape[0], 28, 28))\n",
        "x_test = x_test.reshape((x_test.shape[0], 28, 28))\n",
        "\n",
        "# Build the RNN model\n",
        "model = models.Sequential([\n",
        "    layers.SimpleRNN(128, input_shape=(28, 28), return_sequences=True),\n",
        "    layers.SimpleRNN(64),\n",
        "    layers.Dense(10, activation='softmax')\n",
        "])\n",
        "\n",
        "# Compile the model\n",
        "model.compile(optimizer='adam',\n",
        "              loss='sparse_categorical_crossentropy',\n",
        "              metrics=['accuracy'])\n",
        "\n",
        "# Train the model\n",
        "history = model.fit(x_train, y_train, epochs=5,\n",
        "                    validation_data=(x_test, y_test))\n",
        "\n",
        "# Evaluate the model\n",
        "test_loss, test_acc = model.evaluate(x_test, y_test)\n",
        "print(\"Test accuracy:\", test_acc)\n",
        "\n",
        "# Plot training history\n",
        "plt.plot(history.history['accuracy'], label='accuracy')\n",
        "plt.plot(history.history['val_accuracy'], label = 'val_accuracy')\n",
        "plt.xlabel('Epoch')\n",
        "plt.ylabel('Accuracy')\n",
        "plt.ylim([0, 1])\n",
        "plt.legend(loc='lower right')\n",
        "plt.show()\n"
      ],
      "metadata": {
        "colab": {
          "base_uri": "https://localhost:8080/",
          "height": 669
        },
        "id": "jS36V12LjDxS",
        "outputId": "e315d29f-89b6-46a7-f9da-b2d6d6fdb5f8"
      },
      "execution_count": 2,
      "outputs": [
        {
          "output_type": "stream",
          "name": "stdout",
          "text": [
            "Epoch 1/5\n",
            "1875/1875 [==============================] - 45s 21ms/step - loss: 0.3529 - accuracy: 0.8930 - val_loss: 0.3157 - val_accuracy: 0.9124\n",
            "Epoch 2/5\n",
            "1875/1875 [==============================] - 38s 21ms/step - loss: 0.2011 - accuracy: 0.9414 - val_loss: 0.1587 - val_accuracy: 0.9532\n",
            "Epoch 3/5\n",
            "1875/1875 [==============================] - 34s 18ms/step - loss: 0.1756 - accuracy: 0.9490 - val_loss: 0.1783 - val_accuracy: 0.9500\n",
            "Epoch 4/5\n",
            "1875/1875 [==============================] - 34s 18ms/step - loss: 0.1679 - accuracy: 0.9524 - val_loss: 0.1507 - val_accuracy: 0.9565\n",
            "Epoch 5/5\n",
            "1875/1875 [==============================] - 36s 19ms/step - loss: 0.1555 - accuracy: 0.9563 - val_loss: 0.1546 - val_accuracy: 0.9567\n",
            "313/313 [==============================] - 2s 6ms/step - loss: 0.1546 - accuracy: 0.9567\n",
            "Test accuracy: 0.9567000269889832\n"
          ]
        },
        {
          "output_type": "display_data",
          "data": {
            "text/plain": [
              "<Figure size 640x480 with 1 Axes>"
            ],
            "image/png": "[encoded data removed]"
          },
          "metadata": {}
        }
      ]
    },
    {
      "cell_type": "markdown",
      "source": [
        "### Transformers:"
      ],
      "metadata": {
        "id": "5id_6bNwj6oM"
      }
    },
    {
      "cell_type": "markdown",
      "source": [
        "Transformers are a type of neural network architecture introduced in the\n",
        "paper \"Attention is All You Need\" by Vaswani et al. They rely hugely on a\n",
        "mechanism called self-attention to process input data. Unlike traditional\n",
        "recurrent neural networks (RNNs), transformers do not require sequential\n",
        "data processing, which allows for more parallelization and thus faster training times.\n",
        "\n",
        "● Key Components\n",
        "1. Self-Attention Mechanism: This allows the model to weigh the\n",
        "importance of different words in a sentence relative to each other. It\n",
        "computes a set of attention scores for each word in the context of all\n",
        "other words in the sequence.\n",
        "2. Multi-Head Attention: Instead of calculating attention once, the\n",
        "model does this multiple times with different linear transformations and\n",
        "then concatenates the results. This allows the model to jointly attend to\n",
        "information from different representation subspaces.\n",
        "3. Positional Encoding: Since transformers do not process the input\n",
        "sequence in order, positional encoding is used to provide information\n",
        "about the position of each word within the sequence.\n",
        "4. Feed-Forward Neural Networks: After the attention layers, the data\n",
        "passes through a feed-forward neural network, applied independently to\n",
        "each position.\n",
        "5. Layer Normalization: Normalization is applied after each sub-layer\n",
        "(attention and feed-forward) to stabilize and accelerate the training.\n",
        "6. Residual Connections: Shortcut connections are used around each\n",
        "sub-layer to help gradients flow through the network, mitigating the\n",
        "vanishing gradient problem.\n",
        "\n",
        "**Code for Transformers:**\n",
        "\n",
        "from keras.models import Model\n",
        "from keras.layers import Input, Embedding, MultiHeadAttention, Dropout,\n",
        "LayerNormalization\n",
        "\n",
        "**Define the input shape:**\n",
        "\n",
        "input_shape = (None, 512) # sequence length, embedding dimension\n",
        "\n",
        "**Define the embedding layer:**\n",
        "\n",
        "input_layer = Input(shape=input_shape)\n",
        "embedding_layer = Embedding(input_dim=10000, output_dim=512,\n",
        "input_length=input_shape[0])(input_layer)\n",
        "\n",
        "**Define the encoder layer:**\n",
        "\n",
        "encoder_layer = TransformerEncoderLayer(d_model=512, nhead=8,\n",
        "dim_feedforward=2048, dropout=0.1)\n",
        "encoder_output = encoder_layer(embedding_layer)\n",
        "\n",
        "**Define the decoder layer:**\n",
        "\n",
        "decoder_layer = TransformerDecoderLayer(d_model=512, nhead=8,\n",
        "dim_feedforward=2048, dropout=0.1)\n",
        "decoder_output = decoder_layer(encoder_output)\n",
        "\n",
        "**Define the output layer:**\n",
        "\n",
        "output_layer = Dense(10, activation='softmax')(decoder_output)\n",
        "\n",
        "**Define the model:**\n",
        "\n",
        "model = Model(inputs=input_layer, outputs=output_layer)\n",
        "\n",
        "**Compile the model:**\n",
        "\n",
        "model.compile(optimizer='adam', loss='categorical_crossentropy',\n",
        "metrics=['accuracy'])"
      ],
      "metadata": {
        "id": "Tmy5pYt_kE8h"
      }
    },
    {
      "cell_type": "code",
      "source": [
        "import tensorflow as tf\n",
        "from tensorflow.keras import layers, models\n",
        "from tensorflow.keras.datasets import mnist\n",
        "import numpy as np\n",
        "import matplotlib.pyplot as plt\n",
        "\n",
        "# Load and preprocess the MNIST dataset\n",
        "(x_train, y_train), (x_test, y_test) = mnist.load_data()\n",
        "x_train = x_train.astype('float32') / 255.0\n",
        "x_test = x_test.astype('float32') / 255.0\n",
        "\n",
        "# Reshape the data to fit the model (batch_size, seq_len, embedding_dim)\n",
        "def create_patches(images, patch_size):\n",
        "    batch_size, img_height, img_width = images.shape\n",
        "    patches = tf.image.extract_patches(\n",
        "        images=images[..., tf.newaxis],\n",
        "        sizes=[1, patch_size, patch_size, 1],\n",
        "        strides=[1, patch_size, patch_size, 1],\n",
        "        rates=[1, 1, 1, 1],\n",
        "        padding='VALID'\n",
        "    )\n",
        "    patches = tf.reshape(patches, [batch_size, -1, patch_size * patch_size])\n",
        "    return patches\n",
        "\n",
        "patch_size = 7\n",
        "num_patches = (28 // patch_size) ** 2\n",
        "\n",
        "x_train_patches = create_patches(x_train, patch_size)\n",
        "x_test_patches = create_patches(x_test, patch_size)\n",
        "\n",
        "# Build the transformer model\n",
        "class TransformerBlock(layers.Layer):\n",
        "    def __init__(self, embed_dim, num_heads, ff_dim, rate=0.1):\n",
        "        super(TransformerBlock, self).__init__()\n",
        "        self.att = layers.MultiHeadAttention(num_heads=num_heads, key_dim=embed_dim)\n",
        "        self.ffn = models.Sequential(\n",
        "            [layers.Dense(ff_dim, activation=\"relu\"), layers.Dense(embed_dim)]\n",
        "        )\n",
        "        self.layernorm1 = layers.LayerNormalization(epsilon=1e-6)\n",
        "        self.layernorm2 = layers.LayerNormalization(epsilon=1e-6)\n",
        "        self.dropout1 = layers.Dropout(rate)\n",
        "        self.dropout2 = layers.Dropout(rate)\n",
        "\n",
        "    def call(self, inputs, training):\n",
        "        attn_output = self.att(inputs, inputs)\n",
        "        attn_output = self.dropout1(attn_output, training=training)\n",
        "        out1 = self.layernorm1(inputs + attn_output)\n",
        "        ffn_output = self.ffn(out1)\n",
        "        ffn_output = self.dropout2(ffn_output, training=training)\n",
        "        return self.layernorm2(out1 + ffn_output)\n",
        "\n",
        "class TokenAndPositionEmbedding(layers.Layer):\n",
        "    def __init__(self, num_patches, embed_dim):\n",
        "        super(TokenAndPositionEmbedding, self).__init__()\n",
        "        self.position_embedding = layers.Embedding(\n",
        "            input_dim=num_patches, output_dim=embed_dim\n",
        "        )\n",
        "        self.dense = layers.Dense(embed_dim)\n",
        "\n",
        "    def call(self, x):\n",
        "        positions = tf.range(start=0, limit=num_patches, delta=1)\n",
        "        embedded_positions = self.position_embedding(positions)\n",
        "        x = self.dense(x)\n",
        "        return x + embedded_positions\n",
        "\n",
        "embed_dim = 64\n",
        "num_heads = 4\n",
        "ff_dim = 128\n",
        "\n",
        "inputs = layers.Input(shape=(num_patches, patch_size * patch_size))\n",
        "embedding_layer = TokenAndPositionEmbedding(num_patches, embed_dim)\n",
        "x = embedding_layer(inputs)\n",
        "transformer_block = TransformerBlock(embed_dim, num_heads, ff_dim)\n",
        "x = transformer_block(x)\n",
        "x = layers.GlobalAveragePooling1D()(x)\n",
        "x = layers.Dropout(0.1)(x)\n",
        "x = layers.Dense(64, activation=\"relu\")(x)\n",
        "x = layers.Dropout(0.1)(x)\n",
        "outputs = layers.Dense(10, activation=\"softmax\")(x)\n",
        "\n",
        "model = models.Model(inputs=inputs, outputs=outputs)\n",
        "\n",
        "# Compile and train the model\n",
        "model.compile(optimizer='adam', loss='sparse_categorical_crossentropy', metrics=['accuracy'])\n",
        "\n",
        "history = model.fit(x_train_patches, y_train, epochs=10, batch_size=64, validation_data=(x_test_patches, y_test))\n",
        "\n",
        "# Evaluate the model\n",
        "test_loss, test_acc = model.evaluate(x_test_patches, y_test)\n",
        "print(\"Test accuracy:\", test_acc)\n",
        "\n",
        "# Plot training history\n",
        "plt.plot(history.history['accuracy'], label='accuracy')\n",
        "plt.plot(history.history['val_accuracy'], label = 'val_accuracy')\n",
        "plt.xlabel('Epoch')\n",
        "plt.ylabel('Accuracy')\n",
        "plt.ylim([0, 1])\n",
        "plt.legend(loc='lower right')\n",
        "plt.show()"
      ],
      "metadata": {
        "colab": {
          "base_uri": "https://localhost:8080/",
          "height": 848
        },
        "id": "6P8hSfVIlFQS",
        "outputId": "4ce37fe1-575e-469d-d217-b20e74023baa"
      },
      "execution_count": 4,
      "outputs": [
        {
          "output_type": "stream",
          "name": "stdout",
          "text": [
            "Epoch 1/10\n",
            "938/938 [==============================] - 48s 44ms/step - loss: 0.7978 - accuracy: 0.7324 - val_loss: 0.2796 - val_accuracy: 0.9109\n",
            "Epoch 2/10\n",
            "938/938 [==============================] - 32s 34ms/step - loss: 0.2625 - accuracy: 0.9194 - val_loss: 0.1941 - val_accuracy: 0.9377\n",
            "Epoch 3/10\n",
            "938/938 [==============================] - 34s 37ms/step - loss: 0.1969 - accuracy: 0.9395 - val_loss: 0.1460 - val_accuracy: 0.9528\n",
            "Epoch 4/10\n",
            "938/938 [==============================] - 35s 37ms/step - loss: 0.1726 - accuracy: 0.9468 - val_loss: 0.1385 - val_accuracy: 0.9577\n",
            "Epoch 5/10\n",
            "938/938 [==============================] - 33s 35ms/step - loss: 0.1532 - accuracy: 0.9521 - val_loss: 0.1263 - val_accuracy: 0.9595\n",
            "Epoch 6/10\n",
            "938/938 [==============================] - 35s 37ms/step - loss: 0.1393 - accuracy: 0.9563 - val_loss: 0.1178 - val_accuracy: 0.9625\n",
            "Epoch 7/10\n",
            "938/938 [==============================] - 33s 35ms/step - loss: 0.1289 - accuracy: 0.9596 - val_loss: 0.1264 - val_accuracy: 0.9596\n",
            "Epoch 8/10\n",
            "938/938 [==============================] - 32s 35ms/step - loss: 0.1213 - accuracy: 0.9614 - val_loss: 0.1206 - val_accuracy: 0.9641\n",
            "Epoch 9/10\n",
            "938/938 [==============================] - 33s 35ms/step - loss: 0.1112 - accuracy: 0.9648 - val_loss: 0.1052 - val_accuracy: 0.9669\n",
            "Epoch 10/10\n",
            "938/938 [==============================] - 33s 35ms/step - loss: 0.1053 - accuracy: 0.9659 - val_loss: 0.1028 - val_accuracy: 0.9672\n",
            "313/313 [==============================] - 2s 7ms/step - loss: 0.1028 - accuracy: 0.9672\n",
            "Test accuracy: 0.967199981212616\n"
          ]
        },
        {
          "output_type": "display_data",
          "data": {
            "text/plain": [
              "<Figure size 640x480 with 1 Axes>"
            ],
            "image/png": "[encoded data removed]"
          },
          "metadata": {}
        }
      ]
    }
  ]
}